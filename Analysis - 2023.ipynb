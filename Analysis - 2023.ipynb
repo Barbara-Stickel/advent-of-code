{
 "cells": [
  {
   "cell_type": "code",
   "execution_count": 11,
   "metadata": {},
   "outputs": [
    {
     "name": "stdout",
     "output_type": "stream",
     "text": [
      "The autoreload extension is already loaded. To reload it, use:\n",
      "  %reload_ext autoreload\n"
     ]
    },
    {
     "data": {
      "text/html": [
       "        <script type=\"text/javascript\">\n",
       "        window.PlotlyConfig = {MathJaxConfig: 'local'};\n",
       "        if (window.MathJax && window.MathJax.Hub && window.MathJax.Hub.Config) {window.MathJax.Hub.Config({SVG: {font: \"STIX-Web\"}});}\n",
       "        if (typeof require !== 'undefined') {\n",
       "        require.undef(\"plotly\");\n",
       "        requirejs.config({\n",
       "            paths: {\n",
       "                'plotly': ['https://cdn.plot.ly/plotly-2.16.1.min']\n",
       "            }\n",
       "        });\n",
       "        require(['plotly'], function(Plotly) {\n",
       "            window._Plotly = Plotly;\n",
       "        });\n",
       "        }\n",
       "        </script>\n",
       "        "
      ]
     },
     "metadata": {},
     "output_type": "display_data"
    }
   ],
   "source": [
    "%matplotlib inline\n",
    "%load_ext autoreload\n",
    "%autoreload 2\n",
    "\n",
    "from pathlib import Path\n",
    "from datetime import datetime\n",
    "from time import perf_counter\n",
    "\n",
    "import numpy as np\n",
    "import pandas as pd\n",
    "\n",
    "\n",
    "import plotly.offline as pyoff\n",
    "import plotly.graph_objs as go\n",
    "from plotly import tools\n",
    "import plotly.express as px\n",
    "\n",
    "import cufflinks as cf\n",
    "cf.go_offline()\n",
    "\n",
    "import day_8 as d8\n"
   ]
  },
  {
   "cell_type": "code",
   "execution_count": 2,
   "metadata": {},
   "outputs": [],
   "source": [
    "def get_data(day):\n",
    "    folder = Path(\"input\")\n",
    "\n",
    "    with open(folder / f\"day_{day}.txt\", \"r\") as f:\n",
    "        data = f.read().splitlines()\n",
    "\n",
    "    return data\n"
   ]
  },
  {
   "cell_type": "markdown",
   "metadata": {},
   "source": [
    "## Day 7"
   ]
  },
  {
   "cell_type": "code",
   "execution_count": 186,
   "metadata": {},
   "outputs": [
    {
     "data": {
      "text/plain": [
       "6867.0"
      ]
     },
     "execution_count": 186,
     "metadata": {},
     "output_type": "execute_result"
    }
   ],
   "source": [
    "d8.d10_p1()"
   ]
  },
  {
   "cell_type": "code",
   "execution_count": 136,
   "metadata": {},
   "outputs": [],
   "source": [
    "data = get_data(10)"
   ]
  },
  {
   "cell_type": "code",
   "execution_count": 152,
   "metadata": {},
   "outputs": [],
   "source": [
    "\n",
    "o_i_positions ={\n",
    "    \"top\": (-1, 0),\n",
    "    \"right\": (0, 1),\n",
    "    \"bottom\": (1, 0),\n",
    "    \"left\": (0, -1)\n",
    "}\n",
    "following_o_i = {\n",
    "    # \"-\" : {\n",
    "    #     # (direction from, position), position to\n",
    "    #     (0, 1, \"top\"): \"right\", # moving from top to right\n",
    "    #     (0, 1, \"bottom\"): \"left\", # moving from top to right \n",
    "    #     (0, -1, \"top\"): \"left\", # moving top bottom to left - 7, J\n",
    "    #     (0, -1, \"bottom\"): \"left\", # moving top bottom to left - 7, J\n",
    "    # },\n",
    "    # (direction from, position), position to\n",
    "    (\"7\", \"top\"): \"right\",\n",
    "    (\"J\", \"top\"): \"right\",\n",
    "    (\"7\", \"bottom\"): \"right\",\n",
    "    (\"J\", \"bottom\"): \"right\",\n",
    "\n",
    "    (\"F\", \"top\"): \"left\",\n",
    "    (\"L\", \"top\"): \"left\",\n",
    "    (\"F\", \"bottom\"): \"left\",\n",
    "    (\"L\", \"bottom\"): \"left\",\n",
    "    # ((\"7\", \"J\"), \"top\"): \"right\", # moving from top to right\n",
    "    # ((\"7\", \"J\"), \"bottom\"): \"left\", # moving from top to right \n",
    "    # ((\"F\", \"L\"), \"top\"): \"left\", # moving top bottom to left - 7, J\n",
    "    # ((\"F\", \"L\"), \"bottom\"): \"left\", # moving top bottom to left - 7, J\n",
    "\n",
    "    (\"7\", \"left\"): \"bottom\",\n",
    "    (\"L\", \"left\"): \"bottom\",\n",
    "    (\"7\", \"right\"): \"top\",\n",
    "    (\"L\", \"right\"): \"top\",\n",
    "\n",
    "    (\"F\", \"left\"): \"top\",\n",
    "    (\"J\", \"left\"): \"top\",\n",
    "    (\"F\", \"right\"): \"bottom\",\n",
    "    (\"J\", \"right\"): \"bottom\",\n",
    "    # (direction from, position), position to\n",
    "    # ((\"F\", \"J\"), \"left\"): \"top\", # moving from left to top  - going up and F or going down and J\n",
    "    # ((\"F\", \"J\"), \"right\"): \"bottom\", # moving from right to bottom - going up and F or going down and J\n",
    "    # ((\"7\", \"L\"), \"left\"): \"bottom\", # moving from left to top  - going up and F\n",
    "    # ((\"7\", \"L\"), \"right\"): \"top\", # moving from right to bottom - going up and F\n",
    "}\n"
   ]
  },
  {
   "cell_type": "code",
   "execution_count": 153,
   "metadata": {},
   "outputs": [],
   "source": [
    "directions, allowed_directions = d8.get_directions()"
   ]
  },
  {
   "cell_type": "code",
   "execution_count": 177,
   "metadata": {},
   "outputs": [],
   "source": [
    "data = [\n",
    "    \"...........\",\n",
    "\".F-------7.\",\n",
    "\".|F-----7|.\",\n",
    "\".||.....||.\",\n",
    "\".||.....||.\",\n",
    "\".|L-7.F-J|.\",\n",
    "\".|..|.|..|.\",\n",
    "\".S--J.L--J.\",\n",
    "\"...........\"\n",
    "]"
   ]
  },
  {
   "cell_type": "code",
   "execution_count": 178,
   "metadata": {},
   "outputs": [
    {
     "name": "stdout",
     "output_type": "stream",
     "text": [
      "32\n",
      "22\n"
     ]
    }
   ],
   "source": [
    "# data = get_data(10)\n",
    "\n",
    "data_array, np_o_i = d8.initialize_np_o_i(data)\n",
    "\n",
    "np_o_i = d8.find_o_from_corners(np_o_i)\n",
    "\n",
    "initial_start_row, initial_start_col = np.where(data_array == 'S')\n",
    "\n",
    "# data_array[initial_start_row[0] - 1: initial_start_row[0] + 2, initial_start_col[0] - 1: initial_start_col[0] + 2]\n",
    "data_array[initial_start_row[0], initial_start_col[0]] = \"L\"\n",
    "\n",
    "# getting the top left corner\n",
    "start_row = np.where(np_o_i == 1)[0][0]\n",
    "start_col = np.where(np_o_i == 1)[1][0]\n",
    "\n",
    "assert data_array[start_row, start_col] == \"F\"\n",
    "\n",
    "data_array[start_row, start_col] = \"S\"\n",
    "\n",
    "start_row, start_col = np.where(data_array == 'S')"
   ]
  },
  {
   "cell_type": "code",
   "execution_count": 179,
   "metadata": {},
   "outputs": [],
   "source": [
    "# Next we go down\n",
    "outside_position = \"left\"\n",
    "inside_position = \"right\"\n",
    "\n",
    "end_row, end_col = start_row, start_col + 1\n",
    "\n",
    "s = \"F\""
   ]
  },
  {
   "cell_type": "code",
   "execution_count": 180,
   "metadata": {},
   "outputs": [],
   "source": [
    "# Starting next value\n",
    "\n",
    "potential_start = []\n",
    "symbols = []\n",
    "for (i, j), values in directions.items():\n",
    "    if data_array[start_row + i, start_col + j] in values:\n",
    "        potential_start.append((start_row + i, start_col + j))\n",
    "        symbols.append(data_array[start_row + i, start_col + j])\n",
    "\n",
    "row, col = potential_start[1]\n",
    "end_row, end_col = potential_start[0]\n",
    "\n",
    "prev_i = (row - start_row)[0]\n",
    "prev_j = (col - start_col)[0]\n",
    "\n",
    "s = symbols[1][0]"
   ]
  },
  {
   "cell_type": "code",
   "execution_count": 181,
   "metadata": {},
   "outputs": [
    {
     "name": "stdout",
     "output_type": "stream",
     "text": [
      "1 0\n",
      "[2] [1]\n",
      "0 -1\n",
      "|\n"
     ]
    }
   ],
   "source": [
    "print(prev_i, prev_j)\n",
    "print(row, col)\n",
    "print(i, j)\n",
    "print(s)"
   ]
  },
  {
   "cell_type": "code",
   "execution_count": 183,
   "metadata": {},
   "outputs": [
    {
     "data": {
      "text/plain": [
       "array([['.', '.', '.', '.', '.', '.', '.', '.', '.', '.', '.'],\n",
       "       ['.', 'S', '-', '-', '-', '-', '-', '-', '-', '7', '.'],\n",
       "       ['.', '|', 'F', '-', '-', '-', '-', '-', '7', '|', '.'],\n",
       "       ['.', '|', '|', '.', '.', '.', '.', '.', '|', '|', '.'],\n",
       "       ['.', '|', '|', '.', '.', '.', '.', '.', '|', '|', '.'],\n",
       "       ['.', '|', 'L', '-', '7', '.', 'F', '-', 'J', '|', '.'],\n",
       "       ['.', '|', '.', '.', '|', '.', '|', '.', '.', '|', '.'],\n",
       "       ['.', 'L', '-', '-', 'J', '.', 'L', '-', '-', 'J', '.'],\n",
       "       ['.', '.', '.', '.', '.', '.', '.', '.', '.', '.', '.']],\n",
       "      dtype='<U1')"
      ]
     },
     "execution_count": 183,
     "metadata": {},
     "output_type": "execute_result"
    }
   ],
   "source": [
    "data_array"
   ]
  },
  {
   "cell_type": "code",
   "execution_count": 182,
   "metadata": {},
   "outputs": [
    {
     "data": {
      "text/plain": [
       "array([[2., 2., 2., 2., 2., 2., 2., 2., 2., 2., 2.],\n",
       "       [2., 1., 1., 1., 1., 1., 1., 1., 1., 1., 2.],\n",
       "       [2., 1., 1., 1., 1., 1., 1., 1., 1., 1., 2.],\n",
       "       [2., 1., 1., 0., 0., 0., 0., 0., 1., 1., 0.],\n",
       "       [2., 1., 1., 0., 0., 0., 0., 0., 1., 1., 2.],\n",
       "       [2., 1., 1., 1., 1., 0., 1., 1., 1., 1., 0.],\n",
       "       [2., 1., 0., 0., 1., 0., 1., 0., 0., 1., 2.],\n",
       "       [2., 1., 1., 1., 1., 0., 1., 1., 1., 1., 2.],\n",
       "       [2., 2., 2., 0., 2., 0., 2., 0., 2., 2., 2.]])"
      ]
     },
     "execution_count": 182,
     "metadata": {},
     "output_type": "execute_result"
    }
   ],
   "source": [
    "np_o_i"
   ]
  },
  {
   "cell_type": "code",
   "execution_count": 184,
   "metadata": {},
   "outputs": [
    {
     "name": "stdout",
     "output_type": "stream",
     "text": [
      "| left right\n",
      "2.0\n",
      "1.0\n",
      "| left right\n",
      "2.0\n",
      "1.0\n",
      "| left right\n",
      "2.0\n",
      "1.0\n",
      "| left right\n",
      "2.0\n",
      "1.0\n",
      "| left right\n",
      "2.0\n",
      "0.0\n",
      "- bottom top\n",
      "2.0\n",
      "3.0\n",
      "- bottom top\n",
      "0.0\n",
      "0.0\n",
      "| right right\n",
      "0.0\n",
      "0.0\n",
      "error\n",
      "- top top\n",
      "0.0\n",
      "0.0\n",
      "error\n",
      "| left left\n",
      "1.0\n",
      "1.0\n",
      "| left left\n",
      "1.0\n",
      "1.0\n",
      "- top top\n",
      "1.0\n",
      "1.0\n",
      "- top top\n",
      "1.0\n",
      "1.0\n",
      "- top top\n",
      "1.0\n",
      "1.0\n",
      "- top top\n",
      "1.0\n",
      "1.0\n",
      "- top top\n",
      "1.0\n",
      "1.0\n",
      "| right right\n",
      "1.0\n",
      "1.0\n",
      "| right right\n",
      "1.0\n",
      "1.0\n",
      "- bottom bottom\n",
      "0.0\n",
      "0.0\n",
      "error\n",
      "| left left\n",
      "2.0\n",
      "2.0\n",
      "error\n",
      "- bottom bottom\n",
      "0.0\n",
      "0.0\n",
      "error\n",
      "- bottom bottom\n",
      "2.0\n",
      "2.0\n",
      "error\n",
      "| right right\n",
      "2.0\n",
      "2.0\n",
      "error\n",
      "| right right\n",
      "0.0\n",
      "0.0\n",
      "error\n",
      "| right right\n",
      "2.0\n",
      "2.0\n",
      "error\n",
      "| right right\n",
      "0.0\n",
      "0.0\n",
      "error\n",
      "| right right\n",
      "2.0\n",
      "2.0\n",
      "error\n",
      "- top top\n",
      "2.0\n",
      "2.0\n",
      "error\n",
      "- top top\n",
      "2.0\n",
      "2.0\n",
      "error\n",
      "- top top\n",
      "2.0\n",
      "2.0\n",
      "error\n",
      "- top top\n",
      "2.0\n",
      "2.0\n",
      "error\n",
      "- top top\n",
      "2.0\n",
      "2.0\n",
      "error\n",
      "- top top\n",
      "2.0\n",
      "2.0\n",
      "error\n"
     ]
    }
   ],
   "source": [
    "end_of_loop = False\n",
    "\n",
    "while not end_of_loop:\n",
    "    i, j = allowed_directions[(s, prev_i, prev_j)]\n",
    "    if s in [\"|\", \"-\"]:\n",
    "        print(s, outside_position, inside_position)\n",
    "        outsive_row, outside_col = row + o_i_positions[outside_position][0], col + o_i_positions[outside_position][1]\n",
    "        inside_row, inside_col = row + o_i_positions[inside_position][0], col + o_i_positions[inside_position][1]\n",
    "\n",
    "        print(np_o_i[outsive_row, outside_col][0])\n",
    "        print(np_o_i[inside_row, inside_col][0])\n",
    "\n",
    "        if np_o_i[outsive_row, outside_col][0] == 0:\n",
    "            np_o_i[outsive_row, outside_col] = 2\n",
    "        elif np_o_i[outsive_row, outside_col] == 3:\n",
    "            print(\"error\")\n",
    "        \n",
    "        if np_o_i[inside_row, inside_col] == 0:\n",
    "            np_o_i[inside_row, inside_col] = 3\n",
    "        elif np_o_i[inside_row, inside_col] == 2:\n",
    "            print(\"error\")\n",
    "    else:\n",
    "        # Change of position\n",
    "        outside_position = following_o_i[(s, outside_position)]\n",
    "        inside_position = following_o_i[(s, inside_position)]\n",
    "\n",
    "    # Next symbol\n",
    "    row += i\n",
    "    col += j\n",
    "    s = data_array[row, col][0]\n",
    "\n",
    "    if row == end_row and col == end_col:\n",
    "        end_of_loop = True\n",
    "    else:\n",
    "        prev_i, prev_j = i, j"
   ]
  },
  {
   "cell_type": "code",
   "execution_count": 185,
   "metadata": {},
   "outputs": [
    {
     "data": {
      "text/plain": [
       "array([[2., 2., 2., 2., 2., 2., 2., 2., 2., 2., 2.],\n",
       "       [2., 1., 1., 1., 1., 1., 1., 1., 1., 1., 2.],\n",
       "       [2., 1., 1., 1., 1., 1., 1., 1., 1., 1., 2.],\n",
       "       [2., 1., 1., 0., 0., 0., 0., 0., 1., 1., 2.],\n",
       "       [2., 1., 1., 2., 0., 0., 0., 0., 1., 1., 2.],\n",
       "       [2., 1., 1., 1., 1., 0., 1., 1., 1., 1., 2.],\n",
       "       [2., 1., 3., 3., 1., 2., 1., 2., 0., 1., 2.],\n",
       "       [2., 1., 1., 1., 1., 0., 1., 1., 1., 1., 2.],\n",
       "       [2., 2., 2., 2., 2., 0., 2., 2., 2., 2., 2.]])"
      ]
     },
     "execution_count": 185,
     "metadata": {},
     "output_type": "execute_result"
    }
   ],
   "source": [
    "np_o_i"
   ]
  },
  {
   "cell_type": "code",
   "execution_count": 160,
   "metadata": {},
   "outputs": [
    {
     "name": "stdout",
     "output_type": "stream",
     "text": [
      "4046\n"
     ]
    }
   ],
   "source": [
    "print(len(np.where(np_o_i == 0)[0]))"
   ]
  },
  {
   "cell_type": "code",
   "execution_count": 161,
   "metadata": {},
   "outputs": [
    {
     "name": "stdout",
     "output_type": "stream",
     "text": [
      "0 4046\n",
      "1 249\n",
      "2 214\n",
      "3 206\n",
      "4 204\n",
      "5 204\n",
      "6 204\n",
      "7 204\n",
      "8 204\n",
      "9 204\n",
      "10 204\n",
      "11 204\n",
      "12 204\n",
      "13 204\n",
      "14 204\n",
      "15 204\n",
      "16 204\n",
      "17 204\n",
      "18 204\n",
      "19 204\n",
      "20 204\n",
      "21 204\n",
      "22 204\n",
      "23 204\n",
      "24 204\n",
      "25 204\n",
      "26 204\n",
      "27 204\n",
      "28 204\n",
      "29 204\n",
      "30 204\n",
      "31 204\n",
      "32 204\n",
      "33 204\n",
      "34 204\n",
      "35 204\n",
      "36 204\n",
      "37 204\n",
      "38 204\n",
      "39 204\n",
      "40 204\n",
      "41 204\n",
      "42 204\n",
      "43 204\n",
      "44 204\n",
      "45 204\n",
      "46 204\n",
      "47 204\n",
      "48 204\n",
      "49 204\n"
     ]
    }
   ],
   "source": [
    "\n",
    "for a in range(50):\n",
    "    print(a, len(np.where(np_o_i == 0)[0]))\n",
    "    for i in range(np_o_i.shape[0]):\n",
    "        for j in range(np_o_i.shape[1]):\n",
    "            \n",
    "            for k in [2, 3]:\n",
    "                if np_o_i[i, j] == k:\n",
    "\n",
    "                    # change the value of all the cells around\n",
    "                    if j > 0:\n",
    "                        if np_o_i[i, j - 1] == 0:\n",
    "                            np_o_i[i, j - 1] = k\n",
    "\n",
    "                    if i > 0:\n",
    "                        if np_o_i[i - 1, j] == 0:\n",
    "                            np_o_i[i - 1, j] = k\n",
    "\n",
    "                    if j < np_o_i.shape[1] - 1:\n",
    "                        if np_o_i[i, j + 1] == 0:\n",
    "                            np_o_i[i, j + 1] = k\n",
    "                    \n",
    "                    if i < np_o_i.shape[0] - 1:\n",
    "                        if np_o_i[i + 1, j] == 0:\n",
    "                            np_o_i[i + 1, j] = k\n",
    "    \n",
    "    \n",
    "    if len(np.where(np_o_i == 0)[0]) == 0:\n",
    "        break"
   ]
  },
  {
   "cell_type": "code",
   "execution_count": 168,
   "metadata": {},
   "outputs": [
    {
     "data": {
      "text/plain": [
       "5662"
      ]
     },
     "execution_count": 168,
     "metadata": {},
     "output_type": "execute_result"
    }
   ],
   "source": [
    "len(np.where(np_o_i == 2)[0])"
   ]
  },
  {
   "cell_type": "code",
   "execution_count": null,
   "metadata": {},
   "outputs": [],
   "source": [
    "# potential_start = []\n",
    "# symbols = []\n",
    "# for (i, j), values in directions.items():\n",
    "#     if data_array[start_row + i, start_col + j] in values:\n",
    "#         potential_start.append((start_row + i, start_col + j))\n",
    "#         symbols.append(data_array[start_row + i, start_col + j])\n",
    "\n",
    "# row, col = potential_start[0]\n",
    "# end_row, end_col = potential_start[1]\n",
    "\n",
    "prev_i = (row - start_row)[0]\n",
    "prev_j = (col - start_col)[0]\n",
    "\n",
    "s = symbols[0][0]\n",
    "\n",
    "end_of_loop = False\n",
    "\n",
    "while not end_of_loop:\n",
    "    # current symbol\n",
    "    i, j = allowed_directions[(s, prev_i, prev_j)]\n",
    "\n",
    "    if s == \"|\":\n",
    "        left_pos = (row, col - 1)\n",
    "        right_pos = (row, col + 1)\n",
    "\n",
    "        left_value = np_o_i[left_pos][0]\n",
    "        right_value = np_o_i[right_pos][0]\n",
    "\n",
    "        if set([left_value, right_value]) == set([2, 3]):\n",
    "            pass\n",
    "        elif (set([left_value, right_value]) == set([2, 2])) or (set([left_value, right_value]) == set([3, 3])):\n",
    "            print(\"Error\")\n",
    "        elif left_value == 2:\n",
    "            np_o_i[right_pos] = 3\n",
    "        elif right_value == 2:\n",
    "            np_o_i[left_pos] = 3\n",
    "        elif left_value == 3:\n",
    "            np_o_i[right_pos] = 2\n",
    "        elif right_value == 3:\n",
    "            np_o_i[left_pos] = 2\n",
    "        \n",
    "        # print(left_value, right_value)\n",
    "    elif s == \"-\":\n",
    "        top_pos = (row - 1, col)\n",
    "        bottom_pos = (row + 1, col)\n",
    "\n",
    "        top_value = np_o_i[top_pos][0]\n",
    "        bottom_value = np_o_i[bottom_pos][0]\n",
    "\n",
    "        if set([top_value, bottom_value]) == set([2, 3]):\n",
    "            pass\n",
    "        elif (set([top_value, bottom_value]) == set([2, 2])) or (set([top_value, bottom_value]) == set([3, 3])):\n",
    "            print(\"Error\")\n",
    "        elif top_value == 2:\n",
    "            np_o_i[bottom_pos] = 3\n",
    "        elif bottom_value == 2:\n",
    "            np_o_i[top_pos] = 3\n",
    "        elif top_value == 3:\n",
    "            np_o_i[bottom_pos] = 2\n",
    "        elif bottom_value == 3:\n",
    "            np_o_i[top_pos] = 2\n",
    "    \n",
    "    # next symbol\n",
    "    row += i\n",
    "    col += j\n",
    "    s = data_array[row, col][0]\n",
    "    np_o_i[row, col] = 1\n",
    "    counter += 1\n",
    "\n",
    "    if row == end_row and col == end_col:\n",
    "        end_of_loop = True\n",
    "    else:\n",
    "        prev_i, prev_j = i, j\n"
   ]
  },
  {
   "cell_type": "code",
   "execution_count": 36,
   "metadata": {},
   "outputs": [
    {
     "data": {
      "text/plain": [
       "array([['|', 'L', '-', '.', 'F'],\n",
       "       ['|', 'F', '.', 'F', '7'],\n",
       "       ['7', 'F', 'F', '7', '-'],\n",
       "       ['7', 'F', 'J', 'L', '7'],\n",
       "       ['|', '|', 'F', '-', 'J']], dtype='<U1')"
      ]
     },
     "execution_count": 36,
     "metadata": {},
     "output_type": "execute_result"
    }
   ],
   "source": [
    "# data_array[start_row - 2: start_row + 3, start_col - 2: start_col + 3]\n",
    "# np_o_i[start_row - 2: start_row + 3, start_col - 2: start_col + 3]"
   ]
  },
  {
   "cell_type": "code",
   "execution_count": 37,
   "metadata": {},
   "outputs": [
    {
     "data": {
      "text/plain": [
       "array([[2., 2., 2., 2., 2.],\n",
       "       [2., 2., 2., 2., 2.],\n",
       "       [2., 2., 1., 1., 0.],\n",
       "       [1., 1., 1., 1., 1.],\n",
       "       [1., 1., 1., 1., 1.]])"
      ]
     },
     "execution_count": 37,
     "metadata": {},
     "output_type": "execute_result"
    }
   ],
   "source": [
    "np_o_i[start_row - 2: start_row + 3, start_col - 2: start_col + 3]"
   ]
  },
  {
   "cell_type": "code",
   "execution_count": null,
   "metadata": {},
   "outputs": [],
   "source": [
    "# 0: unkonwn\n",
    "# 1: in loop\n",
    "# 2: outside loop\n",
    "# 3: inside loop"
   ]
  },
  {
   "cell_type": "code",
   "execution_count": 329,
   "metadata": {},
   "outputs": [
    {
     "name": "stdout",
     "output_type": "stream",
     "text": [
      "b 0 4365\n",
      "b 1 858\n",
      "b 2 855\n",
      "Error\n",
      "b 3 853\n",
      "Error\n",
      "b 4 853\n",
      "Error\n",
      "Error\n",
      "b 5 853\n",
      "Error\n",
      "Error\n",
      "b 6 853\n",
      "Error\n",
      "Error\n",
      "b 7 853\n",
      "Error\n",
      "Error\n",
      "b 8 853\n",
      "Error\n",
      "Error\n",
      "b 9 853\n",
      "Error\n",
      "Error\n",
      "b 10 853\n",
      "Error\n",
      "Error\n",
      "b 11 853\n",
      "Error\n",
      "Error\n",
      "b 12 853\n",
      "Error\n",
      "Error\n",
      "b 13 853\n",
      "Error\n",
      "Error\n",
      "b 14 853\n",
      "Error\n",
      "Error\n",
      "b 15 853\n",
      "Error\n",
      "Error\n",
      "b 16 853\n",
      "Error\n",
      "Error\n",
      "b 17 853\n",
      "Error\n",
      "Error\n"
     ]
    },
    {
     "ename": "KeyboardInterrupt",
     "evalue": "",
     "output_type": "error",
     "traceback": [
      "\u001b[1;31m---------------------------------------------------------------------------\u001b[0m",
      "\u001b[1;31mKeyboardInterrupt\u001b[0m                         Traceback (most recent call last)",
      "Cell \u001b[1;32mIn [329], line 104\u001b[0m\n\u001b[0;32m    100\u001b[0m                     \u001b[38;5;28;01mif\u001b[39;00m np_o_i[i \u001b[38;5;241m+\u001b[39m \u001b[38;5;241m1\u001b[39m, j] \u001b[38;5;241m==\u001b[39m \u001b[38;5;241m0\u001b[39m:\n\u001b[0;32m    101\u001b[0m                         np_o_i[i \u001b[38;5;241m+\u001b[39m \u001b[38;5;241m1\u001b[39m, j] \u001b[38;5;241m=\u001b[39m k\n\u001b[1;32m--> 104\u001b[0m \u001b[38;5;28;01mif\u001b[39;00m \u001b[38;5;28mlen\u001b[39m(np\u001b[38;5;241m.\u001b[39mwhere(\u001b[43mnp_o_i\u001b[49m\u001b[43m \u001b[49m\u001b[38;5;241;43m==\u001b[39;49m\u001b[43m \u001b[49m\u001b[38;5;241;43m0\u001b[39;49m)[\u001b[38;5;241m0\u001b[39m]) \u001b[38;5;241m==\u001b[39m \u001b[38;5;241m0\u001b[39m:\n\u001b[0;32m    105\u001b[0m     \u001b[38;5;28;01mbreak\u001b[39;00m\n",
      "\u001b[1;31mKeyboardInterrupt\u001b[0m: "
     ]
    }
   ],
   "source": [
    "for b in range(100):\n",
    "    print(\"b\", b, len(np.where(np_o_i == 0)[0]))\n",
    "    start_row, start_col = np.where(data_array == 'S')\n",
    "\n",
    "    potential_start = []\n",
    "    symbols = []\n",
    "    for (i, j), values in directions.items():\n",
    "        if data_array[start_row + i, start_col + j] in values:\n",
    "            potential_start.append((start_row + i, start_col + j))\n",
    "            symbols.append(data_array[start_row + i, start_col + j])\n",
    "\n",
    "    row, col = potential_start[0]\n",
    "    end_row, end_col = potential_start[1]\n",
    "\n",
    "    prev_i = (row - start_row)[0]\n",
    "    prev_j = (col - start_col)[0]\n",
    "\n",
    "    s = symbols[0][0]\n",
    "\n",
    "    end_of_loop = False\n",
    "\n",
    "    while not end_of_loop:\n",
    "        # current symbol\n",
    "        i, j = allowed_directions[(s, prev_i, prev_j)]\n",
    "\n",
    "        if s == \"|\":\n",
    "            left_pos = (row, col - 1)\n",
    "            right_pos = (row, col + 1)\n",
    "\n",
    "            left_value = np_o_i[left_pos][0]\n",
    "            right_value = np_o_i[right_pos][0]\n",
    "\n",
    "            if set([left_value, right_value]) == set([2, 3]):\n",
    "                pass\n",
    "            elif (set([left_value, right_value]) == set([2, 2])) or (set([left_value, right_value]) == set([3, 3])):\n",
    "                print(\"Error\")\n",
    "            elif left_value == 2:\n",
    "                np_o_i[right_pos] = 3\n",
    "            elif right_value == 2:\n",
    "                np_o_i[left_pos] = 3\n",
    "            elif left_value == 3:\n",
    "                np_o_i[right_pos] = 2\n",
    "            elif right_value == 3:\n",
    "                np_o_i[left_pos] = 2\n",
    "            \n",
    "            # print(left_value, right_value)\n",
    "        elif s == \"-\":\n",
    "            top_pos = (row - 1, col)\n",
    "            bottom_pos = (row + 1, col)\n",
    "\n",
    "            top_value = np_o_i[top_pos][0]\n",
    "            bottom_value = np_o_i[bottom_pos][0]\n",
    "\n",
    "            if set([top_value, bottom_value]) == set([2, 3]):\n",
    "                pass\n",
    "            elif (set([top_value, bottom_value]) == set([2, 2])) or (set([top_value, bottom_value]) == set([3, 3])):\n",
    "                print(\"Error\")\n",
    "            elif top_value == 2:\n",
    "                np_o_i[bottom_pos] = 3\n",
    "            elif bottom_value == 2:\n",
    "                np_o_i[top_pos] = 3\n",
    "            elif top_value == 3:\n",
    "                np_o_i[bottom_pos] = 2\n",
    "            elif bottom_value == 3:\n",
    "                np_o_i[top_pos] = 2\n",
    "        # next symbol\n",
    "        row += i\n",
    "        col += j\n",
    "        s = data_array[row, col][0]\n",
    "        np_o_i[row, col] = 1\n",
    "        counter += 1\n",
    "\n",
    "        if row == end_row and col == end_col:\n",
    "            end_of_loop = True\n",
    "        else:\n",
    "            prev_i, prev_j = i, j\n",
    "\n",
    "    for a in range(50):\n",
    "        for i in range(np_o_i.shape[0]):\n",
    "            for j in range(np_o_i.shape[1]):\n",
    "                \n",
    "                for k in [2, 3]:\n",
    "                    if np_o_i[i, j] == k:\n",
    "\n",
    "                        # change the value of all the cells around\n",
    "                        if j > 0:\n",
    "                            if np_o_i[i, j - 1] == 0:\n",
    "                                np_o_i[i, j - 1] = k\n",
    "\n",
    "                        if i > 0:\n",
    "                            if np_o_i[i - 1, j] == 0:\n",
    "                                np_o_i[i - 1, j] = k\n",
    "\n",
    "                        if j < np_o_i.shape[1] - 1:\n",
    "                            if np_o_i[i, j + 1] == 0:\n",
    "                                np_o_i[i, j + 1] = k\n",
    "                        \n",
    "                        if i < np_o_i.shape[0] - 1:\n",
    "                            if np_o_i[i + 1, j] == 0:\n",
    "                                np_o_i[i + 1, j] = k\n",
    "        \n",
    "        \n",
    "        if len(np.where(np_o_i == 0)[0]) == 0:\n",
    "            break"
   ]
  },
  {
   "cell_type": "code",
   "execution_count": null,
   "metadata": {},
   "outputs": [
    {
     "name": "stdout",
     "output_type": "stream",
     "text": [
      "854\n",
      "853\n",
      "853\n",
      "853\n",
      "853\n",
      "853\n",
      "853\n",
      "853\n",
      "853\n",
      "853\n",
      "853\n",
      "853\n",
      "853\n",
      "853\n",
      "853\n",
      "853\n",
      "853\n",
      "853\n",
      "853\n",
      "853\n",
      "853\n",
      "853\n",
      "853\n",
      "853\n",
      "853\n",
      "853\n",
      "853\n",
      "853\n",
      "853\n",
      "853\n",
      "853\n",
      "853\n",
      "853\n",
      "853\n",
      "853\n",
      "853\n",
      "853\n",
      "853\n",
      "853\n",
      "853\n",
      "853\n",
      "853\n",
      "853\n",
      "853\n",
      "853\n",
      "853\n",
      "853\n",
      "853\n",
      "853\n",
      "853\n",
      "853\n",
      "853\n",
      "853\n",
      "853\n",
      "853\n",
      "853\n",
      "853\n",
      "853\n",
      "853\n",
      "853\n",
      "853\n",
      "853\n",
      "853\n",
      "853\n",
      "853\n",
      "853\n",
      "853\n",
      "853\n",
      "853\n",
      "853\n",
      "853\n",
      "853\n",
      "853\n",
      "853\n",
      "853\n",
      "853\n",
      "853\n",
      "853\n",
      "853\n",
      "853\n",
      "853\n",
      "853\n",
      "853\n",
      "853\n",
      "853\n",
      "853\n",
      "853\n",
      "853\n",
      "853\n",
      "853\n",
      "853\n",
      "853\n",
      "853\n",
      "853\n",
      "853\n",
      "853\n",
      "853\n",
      "853\n",
      "853\n",
      "853\n"
     ]
    }
   ],
   "source": []
  },
  {
   "cell_type": "code",
   "execution_count": null,
   "metadata": {},
   "outputs": [
    {
     "data": {
      "text/plain": [
       "(array([133, 133, 133, 133, 133, 133, 133, 133, 133, 133, 133, 133, 134,\n",
       "        134, 134, 134, 134, 134, 134, 134, 134, 134, 134, 134, 134, 134,\n",
       "        134, 134, 134, 134, 134, 134, 134, 135, 135, 135, 135, 135, 135,\n",
       "        135, 135, 135, 135, 135, 135, 135, 135, 135, 135, 135, 135, 135,\n",
       "        135, 135, 135, 135, 135], dtype=int64),\n",
       " array([56, 67, 68, 69, 70, 71, 72, 73, 74, 75, 76, 77, 54, 55, 56, 61, 62,\n",
       "        63, 64, 65, 66, 67, 68, 69, 70, 71, 72, 73, 74, 75, 76, 77, 78, 54,\n",
       "        56, 57, 58, 59, 60, 61, 62, 63, 64, 65, 66, 67, 68, 69, 70, 71, 72,\n",
       "        73, 74, 75, 76, 77, 78], dtype=int64))"
      ]
     },
     "execution_count": 302,
     "metadata": {},
     "output_type": "execute_result"
    }
   ],
   "source": [
    "np.where(np_o_i == 3)"
   ]
  },
  {
   "cell_type": "code",
   "execution_count": null,
   "metadata": {},
   "outputs": [
    {
     "data": {
      "text/plain": [
       "857"
      ]
     },
     "execution_count": 309,
     "metadata": {},
     "output_type": "execute_result"
    }
   ],
   "source": [
    "len(np.where(np_o_i == 0)[0])"
   ]
  },
  {
   "cell_type": "code",
   "execution_count": null,
   "metadata": {},
   "outputs": [],
   "source": [
    "np.savetxt('my_array.txt', np_o_i, delimiter=',', fmt='%d')\n"
   ]
  },
  {
   "cell_type": "code",
   "execution_count": null,
   "metadata": {},
   "outputs": [],
   "source": []
  }
 ],
 "metadata": {
  "kernelspec": {
   "display_name": "py39-sph",
   "language": "python",
   "name": "python3"
  },
  "language_info": {
   "codemirror_mode": {
    "name": "ipython",
    "version": 3
   },
   "file_extension": ".py",
   "mimetype": "text/x-python",
   "name": "python",
   "nbconvert_exporter": "python",
   "pygments_lexer": "ipython3",
   "version": "3.9.15"
  },
  "orig_nbformat": 4
 },
 "nbformat": 4,
 "nbformat_minor": 2
}
